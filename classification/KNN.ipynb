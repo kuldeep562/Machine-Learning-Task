{
 "cells": [
  {
   "cell_type": "code",
   "execution_count": 1,
   "id": "9e45b0b5-e2c5-4fe5-9bdd-84e369167834",
   "metadata": {},
   "outputs": [],
   "source": [
    "import numpy as np\n",
    "import pandas as pd\n",
    "import matplotlib.pyplot as plt"
   ]
  },
  {
   "cell_type": "code",
   "execution_count": 11,
   "id": "a1cb856d-3f82-47db-908f-c289504b8df7",
   "metadata": {},
   "outputs": [],
   "source": [
    "x=np.array([[1,1],[2,2],[3,3],[4,4],[5,5],[6,6],[7,7],[8,8],[9,9],[10,10]])\n",
    "y=np.array([3,5,2,6,4,1,1,1,1,1])"
   ]
  },
  {
   "cell_type": "code",
   "execution_count": 12,
   "id": "f3732198-7762-48ef-8ad6-09b976e274b0",
   "metadata": {},
   "outputs": [],
   "source": [
    "point=np.array([10,12])"
   ]
  },
  {
   "cell_type": "code",
   "execution_count": 13,
   "id": "035855dc-8dc4-48b4-b5d4-23a70d57e8cb",
   "metadata": {},
   "outputs": [],
   "source": [
    "dist=[]\n",
    "for i in range(len(x)):\n",
    "    a=np.sqrt(((x[i,0]-point[0])**2)+((x[i,1]-point[1])**2))\n",
    "    a=round(a,3)\n",
    "    dist.append(a)"
   ]
  },
  {
   "cell_type": "code",
   "execution_count": 14,
   "id": "0423a1a5-12cb-4824-8c70-b2446405c8df",
   "metadata": {},
   "outputs": [
    {
     "data": {
      "text/plain": [
       "[14.213, 12.806, 11.402, 10.0, 8.602, 7.211, 5.831, 4.472, 3.162, 2.0]"
      ]
     },
     "execution_count": 14,
     "metadata": {},
     "output_type": "execute_result"
    }
   ],
   "source": [
    "dist"
   ]
  },
  {
   "cell_type": "code",
   "execution_count": 15,
   "id": "d020f150-b9ba-4b35-bef6-632ea528819b",
   "metadata": {},
   "outputs": [],
   "source": [
    "k=3"
   ]
  },
  {
   "cell_type": "code",
   "execution_count": 16,
   "id": "0a791b0e-320c-40f5-9849-609d17b77237",
   "metadata": {},
   "outputs": [],
   "source": [
    "distances_array = np.array(dist)\n",
    "sorted_indices = np.argsort(distances_array)"
   ]
  },
  {
   "cell_type": "code",
   "execution_count": 17,
   "id": "66683848-e4ed-4dbb-9c37-6c86d38fedd5",
   "metadata": {},
   "outputs": [
    {
     "data": {
      "text/plain": [
       "1"
      ]
     },
     "execution_count": 17,
     "metadata": {},
     "output_type": "execute_result"
    }
   ],
   "source": [
    "clas=y[sorted_indices]\n",
    "clas=pd.Series(clas)\n",
    "clas.mode()[0]"
   ]
  },
  {
   "cell_type": "code",
   "execution_count": 18,
   "id": "cc75d0f5-8709-4d47-b075-752875c0c118",
   "metadata": {},
   "outputs": [
    {
     "data": {
      "text/plain": [
       "0"
      ]
     },
     "execution_count": 18,
     "metadata": {},
     "output_type": "execute_result"
    }
   ],
   "source": [
    "def knn(point,x,y,k):\n",
    "    dist = []\n",
    "    for i in range(len(x)):\n",
    "        a = np.sqrt(((x[i,0]-point[0])**2) + ((x[i,1]-point[1])**2))\n",
    "        a = round(a, 3)\n",
    "        dist.append(a)\n",
    "    distances_array = np.array(dist)\n",
    "    sorted_indices = np.argsort(distances_array)[:k]\n",
    "    nearest_classes = y[sorted_indices]\n",
    "    nearest_classes_series = pd.Series(nearest_classes)\n",
    "    mode_class = nearest_classes_series.mode()[0]\n",
    "    return mode_class\n",
    "\n",
    "x = np.array([[1, 1], [2, 2], [3, 3], [4, 4], [5, 5], [6, 6], [7, 7], [8, 8], [9, 9], [10, 10]])\n",
    "y = np.array([0, 0, 0, 0, 0, 1, 1, 1, 1, 1])\n",
    "point = np.array([5,5])\n",
    "k=4\n",
    "knn(point,x,y,k)"
   ]
  },
  {
   "cell_type": "code",
   "execution_count": 19,
   "id": "8b34fc5b-04e4-4384-ae09-96059764a505",
   "metadata": {},
   "outputs": [
    {
     "data": {
      "text/plain": [
       "0"
      ]
     },
     "execution_count": 19,
     "metadata": {},
     "output_type": "execute_result"
    }
   ],
   "source": [
    "x = np.array([[1, 1], [2, 2], [3, 3], [4, 4], [5, 5], [6, 6], [7, 7], [8, 8], [9, 9], [10, 10]])\n",
    "y = np.array([0, 0, 0, 0, 0, 1, 1, 1, 1, 1])\n",
    "point = np.array([5,5])\n",
    "k=4\n",
    "knn(point,x,y,k)"
   ]
  },
  {
   "cell_type": "code",
   "execution_count": null,
   "id": "9aeb8689",
   "metadata": {},
   "outputs": [],
   "source": []
  }
 ],
 "metadata": {
  "kernelspec": {
   "display_name": "Python 3 (ipykernel)",
   "language": "python",
   "name": "python3"
  },
  "language_info": {
   "codemirror_mode": {
    "name": "ipython",
    "version": 3
   },
   "file_extension": ".py",
   "mimetype": "text/x-python",
   "name": "python",
   "nbconvert_exporter": "python",
   "pygments_lexer": "ipython3",
   "version": "3.11.5"
  }
 },
 "nbformat": 4,
 "nbformat_minor": 5
}
