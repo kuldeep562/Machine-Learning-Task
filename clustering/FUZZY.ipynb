{
 "cells": [
  {
   "cell_type": "code",
   "execution_count": 3,
   "id": "9809e17a-cb52-4575-9c9f-b0bb93b2de83",
   "metadata": {},
   "outputs": [],
   "source": [
    "import numpy as np"
   ]
  },
  {
   "cell_type": "code",
   "execution_count": 7,
   "id": "9c7b8fb3-d7ec-48e3-8342-5e0e3cd10c93",
   "metadata": {},
   "outputs": [],
   "source": [
    "x=np.array([1,2,3,4,5,6])\n",
    "y=np.array([6,5,8,4,7,9])\n",
    "m1=np.array([0.8,0.9,0.7,0.3,0.5,0.2])\n",
    "m2=np.array([0.2,0.1,0.3,0.7,0.5,0.8])"
   ]
  },
  {
   "cell_type": "code",
   "execution_count": null,
   "id": "e85b3b36-87a4-4aee-9e8a-6eb1b660190d",
   "metadata": {},
   "outputs": [],
   "source": [
    "# while(True):\n",
    "#     iteration=0\n",
    "#     cent1=cen1=0\n",
    "#     cent2=cen2=0\n",
    "#     cent3=cen3=0\n",
    "#     cent4=cen4=0\n",
    "#     for i in range(len(x)):\n",
    "#         cent1=cent1+x[i]*(m1[i]**2)\n",
    "#         cen1=cen1+m1[i]**2\n",
    "#         cent2=cent2+y[i]*(m1[i]**2)\n",
    "#         cen2=cen2+m1[i]**2\n",
    "#         cent3=cent3+x[i]*(m2[i]**2)\n",
    "#         cen3=cen3+m2[i]**2\n",
    "#         cent4=cent4+y[i]*(m2[i]**2)\n",
    "#         cen4=cen4+m2[i]**2\n",
    "#     centroid1=np.array([(cent1/cen1),(cent2/cen2)])   \n",
    "#     centroid2=np.array([(cent3/cen3),(cent4/cen4)])   \n",
    "#     print(\"Centroid1 : \",centroid1) \n",
    "#     print(\"Centroid2 : \",centroid2)\n",
    "#     dist=[]\n",
    "#     dista=[]\n",
    "#     for i in range(len(x)):\n",
    "#         dist.append(round((np.sqrt((x[i]-centroid1[0])**2+(y[i]-centroid1[1])**2)),2))\n",
    "#         dista.append(round((np.sqrt((x[i]-centroid2[0])**2+(y[i]-centroid2[1])**2)),2))   \n",
    "#     print(\"Distance from centroid 1 : \",dist)\n",
    "#     print(\"Distance from centroid 2 : \",dista)\n",
    "#     m1=[]\n",
    "#     m2=[]\n",
    "#     for i in range(len(x)):\n",
    "#         a=((1/dist[i])/((1/dist[i])+(1/dista[i])))\n",
    "#         a=round(a,2)\n",
    "#         m1.append(a)\n",
    "#         m2.append(round(1-m1[i],2))\n",
    "#     print(\"Membership value for Cluster 1 : \",m1)\n",
    "#     print(\"Membership value for Cluster 2 : \",m2)\n",
    "#     print(\"-------------------------------------------------------------------------------------------------------------------------------------\")\n",
    "#     iteration=iteration+1\n",
    "#     if iteration == 10:\n",
    "#         break\n",
    "    "
   ]
  },
  {
   "cell_type": "code",
   "execution_count": null,
   "id": "1c026813-4151-42eb-8477-4147caac98ea",
   "metadata": {},
   "outputs": [],
   "source": [
    "m1=[]\n",
    "m2=[]\n",
    "for i in range(len(x)):\n",
    "    a=((1/dist[i])/((1/dist[i])+(1/dista[i])))\n",
    "    a=round(a,2)\n",
    "    m1.append(a)\n",
    "    m2.append(round(1-m1[i],2))"
   ]
  },
  {
   "cell_type": "code",
   "execution_count": null,
   "id": "03f70416-a115-4117-8ab0-6ad4bedb4e51",
   "metadata": {},
   "outputs": [],
   "source": [
    "print(m1)"
   ]
  },
  {
   "cell_type": "code",
   "execution_count": null,
   "id": "81b03454-b5d9-4bb9-a454-1cbbc0255dd9",
   "metadata": {},
   "outputs": [],
   "source": [
    "print(m2)"
   ]
  }
 ],
 "metadata": {
  "kernelspec": {
   "display_name": "Python 3 (ipykernel)",
   "language": "python",
   "name": "python3"
  },
  "language_info": {
   "codemirror_mode": {
    "name": "ipython",
    "version": 3
   },
   "file_extension": ".py",
   "mimetype": "text/x-python",
   "name": "python",
   "nbconvert_exporter": "python",
   "pygments_lexer": "ipython3",
   "version": "3.11.5"
  }
 },
 "nbformat": 4,
 "nbformat_minor": 5
}
