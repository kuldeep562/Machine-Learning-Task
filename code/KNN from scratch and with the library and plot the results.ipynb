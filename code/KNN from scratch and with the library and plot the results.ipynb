{
 "cells": [
  {
   "cell_type": "code",
   "execution_count": null,
   "id": "3d1821c0",
   "metadata": {},
   "outputs": [],
   "source": []
  },
  {
   "cell_type": "code",
   "execution_count": null,
   "id": "d86cf5cf",
   "metadata": {},
   "outputs": [],
   "source": []
  },
  {
   "cell_type": "markdown",
   "id": "26671f81",
   "metadata": {},
   "source": [
    "# 2. Perform KNN from scratch and with the library and plot the results. Use random generated datapoints and make_blobs dataset of sklearn."
   ]
  },
  {
   "cell_type": "code",
   "execution_count": 1,
   "id": "44d28595",
   "metadata": {},
   "outputs": [],
   "source": [
    "import numpy as np\n",
    "import seaborn as sns\n",
    "import pandas as pd\n",
    "import matplotlib.pyplot as plt\n",
    "from sklearn.neighbors import KNeighborsClassifier\n",
    "from sklearn.metrics import classification_report,confusion_matrix,accuracy_score\n",
    "from sklearn.model_selection import train_test_split\n",
    "from statistics import mode\n",
    "from sklearn import datasets"
   ]
  },
  {
   "cell_type": "code",
   "execution_count": 15,
   "id": "21d26c4e",
   "metadata": {},
   "outputs": [],
   "source": [
    "x,y=datasets.make_blobs(n_samples=500, n_features=2, random_state=42)\n"
   ]
  },
  {
   "cell_type": "code",
   "execution_count": 16,
   "id": "e79b53b2",
   "metadata": {},
   "outputs": [
    {
     "data": {
      "text/html": [
       "<div>\n",
       "<style scoped>\n",
       "    .dataframe tbody tr th:only-of-type {\n",
       "        vertical-align: middle;\n",
       "    }\n",
       "\n",
       "    .dataframe tbody tr th {\n",
       "        vertical-align: top;\n",
       "    }\n",
       "\n",
       "    .dataframe thead th {\n",
       "        text-align: right;\n",
       "    }\n",
       "</style>\n",
       "<table border=\"1\" class=\"dataframe\">\n",
       "  <thead>\n",
       "    <tr style=\"text-align: right;\">\n",
       "      <th></th>\n",
       "      <th>Feature1</th>\n",
       "      <th>Feature2</th>\n",
       "      <th>Target</th>\n",
       "    </tr>\n",
       "  </thead>\n",
       "  <tbody>\n",
       "    <tr>\n",
       "      <th>0</th>\n",
       "      <td>-5.730354</td>\n",
       "      <td>-7.583286</td>\n",
       "      <td>2</td>\n",
       "    </tr>\n",
       "    <tr>\n",
       "      <th>1</th>\n",
       "      <td>1.942992</td>\n",
       "      <td>1.918875</td>\n",
       "      <td>1</td>\n",
       "    </tr>\n",
       "    <tr>\n",
       "      <th>2</th>\n",
       "      <td>6.829682</td>\n",
       "      <td>1.164871</td>\n",
       "      <td>1</td>\n",
       "    </tr>\n",
       "    <tr>\n",
       "      <th>3</th>\n",
       "      <td>-2.901306</td>\n",
       "      <td>7.550771</td>\n",
       "      <td>0</td>\n",
       "    </tr>\n",
       "    <tr>\n",
       "      <th>4</th>\n",
       "      <td>5.841093</td>\n",
       "      <td>1.565094</td>\n",
       "      <td>1</td>\n",
       "    </tr>\n",
       "  </tbody>\n",
       "</table>\n",
       "</div>"
      ],
      "text/plain": [
       "   Feature1  Feature2  Target\n",
       "0 -5.730354 -7.583286       2\n",
       "1  1.942992  1.918875       1\n",
       "2  6.829682  1.164871       1\n",
       "3 -2.901306  7.550771       0\n",
       "4  5.841093  1.565094       1"
      ]
     },
     "execution_count": 16,
     "metadata": {},
     "output_type": "execute_result"
    }
   ],
   "source": [
    "df=pd.DataFrame(x,columns=[\"Feature1\",\"Feature2\"])\n",
    "data=df.copy()\n",
    "data[\"Target\"]=y\n",
    "data.head()"
   ]
  },
  {
   "cell_type": "code",
   "execution_count": 17,
   "id": "81463bfd",
   "metadata": {},
   "outputs": [
    {
     "data": {
      "text/html": [
       "<div>\n",
       "<style scoped>\n",
       "    .dataframe tbody tr th:only-of-type {\n",
       "        vertical-align: middle;\n",
       "    }\n",
       "\n",
       "    .dataframe tbody tr th {\n",
       "        vertical-align: top;\n",
       "    }\n",
       "\n",
       "    .dataframe thead th {\n",
       "        text-align: right;\n",
       "    }\n",
       "</style>\n",
       "<table border=\"1\" class=\"dataframe\">\n",
       "  <thead>\n",
       "    <tr style=\"text-align: right;\">\n",
       "      <th></th>\n",
       "      <th>Feature1</th>\n",
       "      <th>Feature2</th>\n",
       "      <th>Target</th>\n",
       "      <th>Distance</th>\n",
       "    </tr>\n",
       "  </thead>\n",
       "  <tbody>\n",
       "    <tr>\n",
       "      <th>358</th>\n",
       "      <td>2.168234</td>\n",
       "      <td>1.176274</td>\n",
       "      <td>1</td>\n",
       "      <td>2.466751</td>\n",
       "    </tr>\n",
       "    <tr>\n",
       "      <th>1</th>\n",
       "      <td>1.942992</td>\n",
       "      <td>1.918875</td>\n",
       "      <td>1</td>\n",
       "      <td>2.730806</td>\n",
       "    </tr>\n",
       "    <tr>\n",
       "      <th>241</th>\n",
       "      <td>2.601754</td>\n",
       "      <td>0.965083</td>\n",
       "      <td>1</td>\n",
       "      <td>2.774980</td>\n",
       "    </tr>\n",
       "    <tr>\n",
       "      <th>138</th>\n",
       "      <td>2.515983</td>\n",
       "      <td>1.447415</td>\n",
       "      <td>1</td>\n",
       "      <td>2.902616</td>\n",
       "    </tr>\n",
       "    <tr>\n",
       "      <th>132</th>\n",
       "      <td>2.572437</td>\n",
       "      <td>1.884050</td>\n",
       "      <td>1</td>\n",
       "      <td>3.188585</td>\n",
       "    </tr>\n",
       "    <tr>\n",
       "      <th>394</th>\n",
       "      <td>2.769087</td>\n",
       "      <td>1.621656</td>\n",
       "      <td>1</td>\n",
       "      <td>3.208989</td>\n",
       "    </tr>\n",
       "    <tr>\n",
       "      <th>348</th>\n",
       "      <td>3.191794</td>\n",
       "      <td>0.565706</td>\n",
       "      <td>1</td>\n",
       "      <td>3.241539</td>\n",
       "    </tr>\n",
       "    <tr>\n",
       "      <th>322</th>\n",
       "      <td>3.045451</td>\n",
       "      <td>1.373795</td>\n",
       "      <td>1</td>\n",
       "      <td>3.340971</td>\n",
       "    </tr>\n",
       "    <tr>\n",
       "      <th>206</th>\n",
       "      <td>3.349918</td>\n",
       "      <td>0.678091</td>\n",
       "      <td>1</td>\n",
       "      <td>3.417859</td>\n",
       "    </tr>\n",
       "    <tr>\n",
       "      <th>430</th>\n",
       "      <td>3.456620</td>\n",
       "      <td>-0.066062</td>\n",
       "      <td>1</td>\n",
       "      <td>3.457252</td>\n",
       "    </tr>\n",
       "  </tbody>\n",
       "</table>\n",
       "</div>"
      ],
      "text/plain": [
       "     Feature1  Feature2  Target  Distance\n",
       "358  2.168234  1.176274       1  2.466751\n",
       "1    1.942992  1.918875       1  2.730806\n",
       "241  2.601754  0.965083       1  2.774980\n",
       "138  2.515983  1.447415       1  2.902616\n",
       "132  2.572437  1.884050       1  3.188585\n",
       "394  2.769087  1.621656       1  3.208989\n",
       "348  3.191794  0.565706       1  3.241539\n",
       "322  3.045451  1.373795       1  3.340971\n",
       "206  3.349918  0.678091       1  3.417859\n",
       "430  3.456620 -0.066062       1  3.457252"
      ]
     },
     "execution_count": 17,
     "metadata": {},
     "output_type": "execute_result"
    }
   ],
   "source": [
    "def knn(point,data):\n",
    "    distance=[]\n",
    "    for i in data:\n",
    "        sumn=0\n",
    "        for j in range(len(data[0])):\n",
    "            sumn+=(i[j]-point[j])**2\n",
    "        distance.append(np.sqrt(sumn))\n",
    "    return distance\n",
    "\n",
    "dis=knn((0,0),x)\n",
    "data1=data.copy()\n",
    "data1[\"Distance\"]=dis\n",
    "data1.sort_values('Distance',inplace=True)\n",
    "data1.head(10)\n"
   ]
  },
  {
   "cell_type": "code",
   "execution_count": 18,
   "id": "5376ce12",
   "metadata": {},
   "outputs": [
    {
     "name": "stdout",
     "output_type": "stream",
     "text": [
      "Class :  1\n"
     ]
    }
   ],
   "source": [
    "k=9\n",
    "a=data1[\"Target\"][:k].values\n",
    "print(\"Class : \",mode(a))"
   ]
  },
  {
   "cell_type": "code",
   "execution_count": 19,
   "id": "a4754cff",
   "metadata": {},
   "outputs": [
    {
     "data": {
      "image/png": "[encoded data removed]",
      "text/plain": [
       "<Figure size 640x480 with 1 Axes>"
      ]
     },
     "metadata": {},
     "output_type": "display_data"
    }
   ],
   "source": [
    "plt.title(\"Scatter Plot\")\n",
    "plt.scatter(x[:,0],x[:,1],c=y,cmap='viridis', s=50)\n",
    "plt.scatter(0,0,marker=\"*\",color=\"red\",s=100,label=\"Unknown point\")\n",
    "\n",
    "plt.xlabel('Feature 1')\n",
    "plt.ylabel('Feature 2')\n",
    "plt.legend((\"clusters\",\"Unknown point\"))\n",
    "plt.show()"
   ]
  },
  {
   "cell_type": "code",
   "execution_count": 20,
   "id": "c5951e76",
   "metadata": {},
   "outputs": [],
   "source": [
    "X_train, X_test, y_train, y_test = train_test_split(df, y, test_size=0.33, random_state=42)"
   ]
  },
  {
   "cell_type": "code",
   "execution_count": 21,
   "id": "5e192d09",
   "metadata": {},
   "outputs": [],
   "source": [
    "error_rate=[]\n",
    "for i in range(1,10):\n",
    "    k=KNeighborsClassifier(n_neighbors=i)\n",
    "    k.fit(X_train,y_train)\n",
    "    prediction=k.predict(X_test)\n",
    "    error_rate.append(np.mean(prediction != y_test))\n",
    "    "
   ]
  },
  {
   "cell_type": "code",
   "execution_count": 22,
   "id": "d6b314a7",
   "metadata": {},
   "outputs": [
    {
     "data": {
      "image/png": "[encoded data removed]",
      "text/plain": [
       "<Figure size 1000x600 with 1 Axes>"
      ]
     },
     "metadata": {},
     "output_type": "display_data"
    }
   ],
   "source": [
    "plt.figure(figsize=(10,6))\n",
    "plt.plot(range(1,10),error_rate,color='blue',linestyle='dashed')\n",
    "plt.title(\"Error Rate vs K\")\n",
    "plt.xlabel('K')\n",
    "plt.ylabel('Error Rate')\n",
    "plt.show()"
   ]
  },
  {
   "cell_type": "code",
   "execution_count": null,
   "id": "dc247f8a",
   "metadata": {},
   "outputs": [],
   "source": []
  },
  {
   "cell_type": "code",
   "execution_count": 23,
   "id": "7a377a28",
   "metadata": {},
   "outputs": [],
   "source": [
    "#knn by function "
   ]
  },
  {
   "cell_type": "code",
   "execution_count": 24,
   "id": "f045d4b0",
   "metadata": {},
   "outputs": [],
   "source": [
    "k=KNeighborsClassifier(n_neighbors=3)\n",
    "k.fit(X_train,y_train)\n",
    "prediction=k.predict(X_test)"
   ]
  },
  {
   "cell_type": "code",
   "execution_count": 25,
   "id": "323b6a47",
   "metadata": {},
   "outputs": [
    {
     "name": "stdout",
     "output_type": "stream",
     "text": [
      "              precision    recall  f1-score   support\n",
      "\n",
      "           0       1.00      1.00      1.00        49\n",
      "           1       1.00      1.00      1.00        53\n",
      "           2       1.00      1.00      1.00        63\n",
      "\n",
      "    accuracy                           1.00       165\n",
      "   macro avg       1.00      1.00      1.00       165\n",
      "weighted avg       1.00      1.00      1.00       165\n",
      "\n"
     ]
    }
   ],
   "source": [
    "print(classification_report(y_test,prediction))"
   ]
  },
  {
   "cell_type": "code",
   "execution_count": 26,
   "id": "17fbd2bc",
   "metadata": {},
   "outputs": [
    {
     "data": {
      "image/png": "[encoded data removed]",
      "text/plain": [
       "<Figure size 640x480 with 2 Axes>"
      ]
     },
     "metadata": {},
     "output_type": "display_data"
    }
   ],
   "source": [
    "sns.heatmap(confusion_matrix(y_test,prediction),annot=True)\n",
    "plt.title(\"Confusion Matrix\")\n",
    "plt.xlabel(\"Predicted\")\n",
    "plt.ylabel(\"Actual\")\n",
    "plt.show()"
   ]
  },
  {
   "cell_type": "code",
   "execution_count": 27,
   "id": "2aefc313",
   "metadata": {},
   "outputs": [
    {
     "name": "stdout",
     "output_type": "stream",
     "text": [
      "accuracy :  1.0\n"
     ]
    }
   ],
   "source": [
    "accuracy=accuracy_score(y_test,prediction)\n",
    "print(\"accuracy : \",accuracy)"
   ]
  },
  {
   "cell_type": "code",
   "execution_count": null,
   "id": "26081d28",
   "metadata": {},
   "outputs": [],
   "source": []
  },
  {
   "cell_type": "code",
   "execution_count": null,
   "id": "0011f58f",
   "metadata": {},
   "outputs": [],
   "source": []
  },
  {
   "cell_type": "code",
   "execution_count": null,
   "id": "cd91a7df",
   "metadata": {},
   "outputs": [],
   "source": []
  },
  {
   "cell_type": "code",
   "execution_count": null,
   "id": "93691e82",
   "metadata": {},
   "outputs": [],
   "source": []
  },
  {
   "cell_type": "code",
   "execution_count": null,
   "id": "b7343aa7",
   "metadata": {},
   "outputs": [],
   "source": []
  },
  {
   "cell_type": "code",
   "execution_count": null,
   "id": "85d3f70d",
   "metadata": {},
   "outputs": [],
   "source": []
  },
  {
   "cell_type": "code",
   "execution_count": null,
   "id": "63468c3f",
   "metadata": {},
   "outputs": [],
   "source": []
  }
 ],
 "metadata": {
  "kernelspec": {
   "display_name": "Python 3 (ipykernel)",
   "language": "python",
   "name": "python3"
  },
  "language_info": {
   "codemirror_mode": {
    "name": "ipython",
    "version": 3
   },
   "file_extension": ".py",
   "mimetype": "text/x-python",
   "name": "python",
   "nbconvert_exporter": "python",
   "pygments_lexer": "ipython3",
   "version": "3.11.5"
  }
 },
 "nbformat": 4,
 "nbformat_minor": 5
}
