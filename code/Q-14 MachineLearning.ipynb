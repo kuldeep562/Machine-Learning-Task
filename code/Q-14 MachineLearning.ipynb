{
 "cells": [
  {
   "cell_type": "markdown",
   "id": "9b9dec92-4f90-4022-8ca5-0aa2ae7708bf",
   "metadata": {},
   "source": [
    "# Q-14 WAP to perform feature selection using filter and wrapper method.\n"
   ]
  },
  {
   "cell_type": "code",
   "execution_count": 1,
   "id": "be996f90",
   "metadata": {},
   "outputs": [],
   "source": [
    "import numpy as np\n",
    "import matplotlib.pyplot as plt\n",
    "import seaborn as sns\n",
    "import pandas as pd\n",
    "from sklearn import datasets"
   ]
  },
  {
   "cell_type": "code",
   "execution_count": 2,
   "id": "f8fcc77c",
   "metadata": {},
   "outputs": [],
   "source": [
    "x=datasets.load_iris()"
   ]
  },
  {
   "cell_type": "code",
   "execution_count": 3,
   "id": "90a9f7fa",
   "metadata": {},
   "outputs": [],
   "source": [
    "data=pd.DataFrame(x.data,columns=x.feature_names)"
   ]
  },
  {
   "cell_type": "code",
   "execution_count": 4,
   "id": "41c7520e",
   "metadata": {},
   "outputs": [],
   "source": [
    "data[\"target\"]=x.target"
   ]
  },
  {
   "cell_type": "code",
   "execution_count": 5,
   "id": "98514cb7",
   "metadata": {},
   "outputs": [
    {
     "name": "stdout",
     "output_type": "stream",
     "text": [
      "<class 'pandas.core.frame.DataFrame'>\n",
      "RangeIndex: 150 entries, 0 to 149\n",
      "Data columns (total 5 columns):\n",
      " #   Column             Non-Null Count  Dtype  \n",
      "---  ------             --------------  -----  \n",
      " 0   sepal length (cm)  150 non-null    float64\n",
      " 1   sepal width (cm)   150 non-null    float64\n",
      " 2   petal length (cm)  150 non-null    float64\n",
      " 3   petal width (cm)   150 non-null    float64\n",
      " 4   target             150 non-null    int32  \n",
      "dtypes: float64(4), int32(1)\n",
      "memory usage: 5.4 KB\n"
     ]
    }
   ],
   "source": [
    "data.info()"
   ]
  },
  {
   "cell_type": "code",
   "execution_count": 6,
   "id": "9a56a359",
   "metadata": {},
   "outputs": [],
   "source": [
    "df=data\n",
    "df1=df.drop(['target'],axis=1)"
   ]
  },
  {
   "cell_type": "code",
   "execution_count": 7,
   "id": "67c0b2b7",
   "metadata": {},
   "outputs": [
    {
     "data": {
      "image/png": "[encoded data removed]",
      "text/plain": [
       "<Figure size 640x480 with 1 Axes>"
      ]
     },
     "metadata": {},
     "output_type": "display_data"
    }
   ],
   "source": [
    "plt.boxplot(df1)\n",
    "plt.show()"
   ]
  },
  {
   "cell_type": "code",
   "execution_count": 8,
   "id": "00d382b8",
   "metadata": {},
   "outputs": [],
   "source": [
    "df1.clip(df1.quantile(0.1),df1.quantile(0.9),axis=1,inplace=True)"
   ]
  },
  {
   "cell_type": "code",
   "execution_count": 9,
   "id": "282e4ccb",
   "metadata": {},
   "outputs": [
    {
     "data": {
      "image/png": "[encoded data removed]",
      "text/plain": [
       "<Figure size 640x480 with 1 Axes>"
      ]
     },
     "metadata": {},
     "output_type": "display_data"
    }
   ],
   "source": [
    "plt.boxplot(df1)\n",
    "plt.show()"
   ]
  },
  {
   "cell_type": "code",
   "execution_count": 10,
   "id": "cf5999f6",
   "metadata": {},
   "outputs": [],
   "source": [
    "from sklearn.preprocessing import MinMaxScaler"
   ]
  },
  {
   "cell_type": "code",
   "execution_count": 11,
   "id": "eb579ac2",
   "metadata": {},
   "outputs": [
    {
     "data": {
      "text/html": [
       "<div>\n",
       "<style scoped>\n",
       "    .dataframe tbody tr th:only-of-type {\n",
       "        vertical-align: middle;\n",
       "    }\n",
       "\n",
       "    .dataframe tbody tr th {\n",
       "        vertical-align: top;\n",
       "    }\n",
       "\n",
       "    .dataframe thead th {\n",
       "        text-align: right;\n",
       "    }\n",
       "</style>\n",
       "<table border=\"1\" class=\"dataframe\">\n",
       "  <thead>\n",
       "    <tr style=\"text-align: right;\">\n",
       "      <th></th>\n",
       "      <th>sepal length (cm)</th>\n",
       "      <th>sepal width (cm)</th>\n",
       "      <th>petal length (cm)</th>\n",
       "      <th>petal width (cm)</th>\n",
       "    </tr>\n",
       "  </thead>\n",
       "  <tbody>\n",
       "    <tr>\n",
       "      <th>0</th>\n",
       "      <td>0.142857</td>\n",
       "      <td>0.900901</td>\n",
       "      <td>0.000000</td>\n",
       "      <td>0.00</td>\n",
       "    </tr>\n",
       "    <tr>\n",
       "      <th>1</th>\n",
       "      <td>0.047619</td>\n",
       "      <td>0.450450</td>\n",
       "      <td>0.000000</td>\n",
       "      <td>0.00</td>\n",
       "    </tr>\n",
       "    <tr>\n",
       "      <th>2</th>\n",
       "      <td>0.000000</td>\n",
       "      <td>0.630631</td>\n",
       "      <td>0.000000</td>\n",
       "      <td>0.00</td>\n",
       "    </tr>\n",
       "    <tr>\n",
       "      <th>3</th>\n",
       "      <td>0.000000</td>\n",
       "      <td>0.540541</td>\n",
       "      <td>0.022727</td>\n",
       "      <td>0.00</td>\n",
       "    </tr>\n",
       "    <tr>\n",
       "      <th>4</th>\n",
       "      <td>0.095238</td>\n",
       "      <td>0.990991</td>\n",
       "      <td>0.000000</td>\n",
       "      <td>0.00</td>\n",
       "    </tr>\n",
       "    <tr>\n",
       "      <th>...</th>\n",
       "      <td>...</td>\n",
       "      <td>...</td>\n",
       "      <td>...</td>\n",
       "      <td>...</td>\n",
       "    </tr>\n",
       "    <tr>\n",
       "      <th>145</th>\n",
       "      <td>0.904762</td>\n",
       "      <td>0.450450</td>\n",
       "      <td>0.863636</td>\n",
       "      <td>1.00</td>\n",
       "    </tr>\n",
       "    <tr>\n",
       "      <th>146</th>\n",
       "      <td>0.714286</td>\n",
       "      <td>0.000000</td>\n",
       "      <td>0.818182</td>\n",
       "      <td>0.85</td>\n",
       "    </tr>\n",
       "    <tr>\n",
       "      <th>147</th>\n",
       "      <td>0.809524</td>\n",
       "      <td>0.450450</td>\n",
       "      <td>0.863636</td>\n",
       "      <td>0.90</td>\n",
       "    </tr>\n",
       "    <tr>\n",
       "      <th>148</th>\n",
       "      <td>0.666667</td>\n",
       "      <td>0.810811</td>\n",
       "      <td>0.909091</td>\n",
       "      <td>1.00</td>\n",
       "    </tr>\n",
       "    <tr>\n",
       "      <th>149</th>\n",
       "      <td>0.523810</td>\n",
       "      <td>0.450450</td>\n",
       "      <td>0.840909</td>\n",
       "      <td>0.80</td>\n",
       "    </tr>\n",
       "  </tbody>\n",
       "</table>\n",
       "<p>150 rows × 4 columns</p>\n",
       "</div>"
      ],
      "text/plain": [
       "     sepal length (cm)  sepal width (cm)  petal length (cm)  petal width (cm)\n",
       "0             0.142857          0.900901           0.000000              0.00\n",
       "1             0.047619          0.450450           0.000000              0.00\n",
       "2             0.000000          0.630631           0.000000              0.00\n",
       "3             0.000000          0.540541           0.022727              0.00\n",
       "4             0.095238          0.990991           0.000000              0.00\n",
       "..                 ...               ...                ...               ...\n",
       "145           0.904762          0.450450           0.863636              1.00\n",
       "146           0.714286          0.000000           0.818182              0.85\n",
       "147           0.809524          0.450450           0.863636              0.90\n",
       "148           0.666667          0.810811           0.909091              1.00\n",
       "149           0.523810          0.450450           0.840909              0.80\n",
       "\n",
       "[150 rows x 4 columns]"
      ]
     },
     "execution_count": 11,
     "metadata": {},
     "output_type": "execute_result"
    }
   ],
   "source": [
    "scaler_rob=MinMaxScaler()\n",
    "\n",
    "scaled_data=scaler_rob.fit_transform(df1)\n",
    "\n",
    "scaled_df=pd.DataFrame(scaled_data,columns=df1.columns)\n",
    "scaled_df"
   ]
  },
  {
   "cell_type": "code",
   "execution_count": 12,
   "id": "a74d3802",
   "metadata": {},
   "outputs": [
    {
     "ename": "ModuleNotFoundError",
     "evalue": "No module named 'skfeature'",
     "output_type": "error",
     "traceback": [
      "\u001b[1;31m---------------------------------------------------------------------------\u001b[0m",
      "\u001b[1;31mModuleNotFoundError\u001b[0m                       Traceback (most recent call last)",
      "Cell \u001b[1;32mIn[12], line 2\u001b[0m\n\u001b[0;32m      1\u001b[0m \u001b[38;5;28;01mfrom\u001b[39;00m \u001b[38;5;21;01msklearn\u001b[39;00m\u001b[38;5;21;01m.\u001b[39;00m\u001b[38;5;21;01mfeature_selection\u001b[39;00m \u001b[38;5;28;01mimport\u001b[39;00m chi2,mutual_info_classif,SelectKBest,mutual_info_regression\n\u001b[1;32m----> 2\u001b[0m \u001b[38;5;28;01mfrom\u001b[39;00m \u001b[38;5;21;01mskfeature\u001b[39;00m\u001b[38;5;21;01m.\u001b[39;00m\u001b[38;5;21;01mfunction\u001b[39;00m\u001b[38;5;21;01m.\u001b[39;00m\u001b[38;5;21;01msimilarity_based\u001b[39;00m \u001b[38;5;28;01mimport\u001b[39;00m fisher_score\n",
      "\u001b[1;31mModuleNotFoundError\u001b[0m: No module named 'skfeature'"
     ]
    }
   ],
   "source": [
    "from sklearn.feature_selection import chi2,mutual_info_classif,SelectKBest,mutual_info_regression\n",
    "from skfeature.function.similarity_based import fisher_score"
   ]
  },
  {
   "cell_type": "code",
   "execution_count": null,
   "id": "82dbc546",
   "metadata": {},
   "outputs": [],
   "source": [
    "#information gain\n",
    "x=df1\n",
    "y=df[\"target\"]\n",
    "\n",
    "importance=mutual_info_classif(x,y)\n",
    "f_importance=pd.Series(importance, df.columns[0:len(df.columns)-1])\n",
    "f_importance.plot(kind='barh',color='teal')\n",
    "plt.show()"
   ]
  },
  {
   "cell_type": "code",
   "execution_count": null,
   "id": "c8293df8",
   "metadata": {},
   "outputs": [],
   "source": [
    "chi2_features = SelectKBest(chi2,k=2)\n",
    "x_kbest_features=chi2_features.fit_transform(x,y)\n",
    "\n",
    "print(\"Original : \",x.shape[1])\n",
    "print(\"Reduced : \",x_kbest_features.shape[1])\n",
    "selected_features = df.columns[:-1][chi2_features.get_support()] \n",
    "print(selected_features)"
   ]
  },
  {
   "cell_type": "code",
   "execution_count": null,
   "id": "30347f9f",
   "metadata": {},
   "outputs": [],
   "source": [
    "x=np.array(x)\n",
    "y=np.array(y)\n",
    "ranks=fisher_score.fisher_score(x,y)\n",
    "\n",
    "feat_importances=pd.Series(ranks,df.columns[0:len(df.columns)-1])\n",
    "feat_importances.plot(kind='barh',color=\"teal\")\n",
    "plt.show()"
   ]
  }
 ],
 "metadata": {
  "kernelspec": {
   "display_name": "Python 3 (ipykernel)",
   "language": "python",
   "name": "python3"
  },
  "language_info": {
   "codemirror_mode": {
    "name": "ipython",
    "version": 3
   },
   "file_extension": ".py",
   "mimetype": "text/x-python",
   "name": "python",
   "nbconvert_exporter": "python",
   "pygments_lexer": "ipython3",
   "version": "3.11.4"
  }
 },
 "nbformat": 4,
 "nbformat_minor": 5
}
