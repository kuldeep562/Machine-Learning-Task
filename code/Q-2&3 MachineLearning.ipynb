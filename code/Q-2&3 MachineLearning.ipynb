{
 "cells": [
  {
   "cell_type": "markdown",
   "id": "eb1f8218-ac2f-466c-91d9-258c68b02d29",
   "metadata": {},
   "source": [
    "# Q-2 WAP to Implement the model of simple linear regression using the formula of m(slope) & c(intercept). Find R2  and RMSE values.\n",
    "# Q-3 WAP to Implement model fitting prediction and score finding for simple linear regression using the sci-kit learn library."
   ]
  },
  {
   "cell_type": "code",
   "execution_count": 1,
   "id": "b3d3f37c-af22-40b0-b1ca-128f2de7b396",
   "metadata": {},
   "outputs": [],
   "source": [
    "import numpy as np\n",
    "import pandas as pd \n",
    "import math as m"
   ]
  },
  {
   "cell_type": "code",
   "execution_count": 2,
   "id": "2bbe5a76-88be-430e-a6b2-59716cad342c",
   "metadata": {},
   "outputs": [],
   "source": [
    "M=np.array([2,6,5,9,7,10])\n",
    "K=np.array([7,8,12,8,20,16])"
   ]
  },
  {
   "cell_type": "code",
   "execution_count": 3,
   "id": "3962f5c6-8426-40f9-a661-611ad2c1de42",
   "metadata": {},
   "outputs": [],
   "source": [
    "xbar=np.mean(M)\n",
    "ybar=np.mean(K)"
   ]
  },
  {
   "cell_type": "code",
   "execution_count": 4,
   "id": "2b7248a7-ada8-4f84-b6fa-d3c5c847fbfd",
   "metadata": {},
   "outputs": [
    {
     "name": "stdout",
     "output_type": "stream",
     "text": [
      "The slope of the given data is : 0.7831325301204819\n"
     ]
    }
   ],
   "source": [
    "sum=0\n",
    "deno=0\n",
    "for i in range(len(M)):\n",
    "    sum=sum+(M[i]-xbar)*(K[i]-xbar)\n",
    "    deno=deno+(M[i]-xbar)**2   \n",
    "slope=sum/deno\n",
    "print(\"The slope of the given data is :\",slope)"
   ]
  },
  {
   "cell_type": "code",
   "execution_count": 5,
   "id": "81fd8923-1d3f-4fdb-9e34-e1a86213dae3",
   "metadata": {},
   "outputs": [
    {
     "data": {
      "text/plain": [
       "6.742971887550201"
      ]
     },
     "execution_count": 5,
     "metadata": {},
     "output_type": "execute_result"
    }
   ],
   "source": [
    "intercept=ybar-(slope*xbar)\n",
    "intercept"
   ]
  },
  {
   "cell_type": "code",
   "execution_count": 6,
   "id": "a1ea40f7-b47a-4ec2-90a6-5ea3dd8903cc",
   "metadata": {},
   "outputs": [
    {
     "name": "stdout",
     "output_type": "stream",
     "text": [
      "RSS : 111.38152610441766\n",
      "TSS : 136.83333333333334\n"
     ]
    }
   ],
   "source": [
    "rss=0\n",
    "tss=0\n",
    "for i in range(len(M)): \n",
    "    rss=rss+(K[i]-(intercept)-(slope*M[i]))**2\n",
    "    tss=tss+(K[i]-ybar)**2\n",
    "print(\"RSS :\",rss)\n",
    "print(\"TSS :\",tss)"
   ]
  },
  {
   "cell_type": "code",
   "execution_count": 7,
   "id": "57d4108b-6463-4252-9536-bebd57f40567",
   "metadata": {},
   "outputs": [
    {
     "name": "stdout",
     "output_type": "stream",
     "text": [
      "0.1860058993587017\n",
      "R square value : 18 %\n"
     ]
    }
   ],
   "source": [
    "r2=1-(rss/tss)\n",
    "print(r2)\n",
    "r2=int(r2*100)\n",
    "print(\"R square value :\",r2,\"%\")"
   ]
  },
  {
   "cell_type": "code",
   "execution_count": 8,
   "id": "383441c7-0435-4833-b1be-912f1757275b",
   "metadata": {},
   "outputs": [
    {
     "name": "stdout",
     "output_type": "stream",
     "text": [
      "TSME : 4.308548210716646\n"
     ]
    }
   ],
   "source": [
    "tsme=(rss/len(M))**0.5\n",
    "print(\"TSME :\",tsme)"
   ]
  },
  {
   "cell_type": "code",
   "execution_count": 9,
   "id": "82d6fcc4-b4ee-42f8-8ecc-12e5a5073ba3",
   "metadata": {},
   "outputs": [],
   "source": [
    "from sklearn.linear_model import LinearRegression\n",
    "from sklearn.metrics import r2_score"
   ]
  },
  {
   "cell_type": "code",
   "execution_count": 10,
   "id": "6f37d3c5-6af5-4da9-af05-1265b7341917",
   "metadata": {},
   "outputs": [
    {
     "data": {
      "text/plain": [
       "0.1860058993587015"
      ]
     },
     "execution_count": 10,
     "metadata": {},
     "output_type": "execute_result"
    }
   ],
   "source": [
    "l=LinearRegression()\n",
    "l.fit(M.reshape(-1,1),K)\n",
    "ypred=l.predict(M.reshape(-1,1))\n",
    "r2_score(K,ypred)"
   ]
  },
  {
   "cell_type": "code",
   "execution_count": null,
   "id": "75863968-03bb-46fc-9032-e5f1e604e7a8",
   "metadata": {},
   "outputs": [],
   "source": []
  }
 ],
 "metadata": {
  "kernelspec": {
   "display_name": "Python 3 (ipykernel)",
   "language": "python",
   "name": "python3"
  },
  "language_info": {
   "codemirror_mode": {
    "name": "ipython",
    "version": 3
   },
   "file_extension": ".py",
   "mimetype": "text/x-python",
   "name": "python",
   "nbconvert_exporter": "python",
   "pygments_lexer": "ipython3",
   "version": "3.11.4"
  }
 },
 "nbformat": 4,
 "nbformat_minor": 5
}
