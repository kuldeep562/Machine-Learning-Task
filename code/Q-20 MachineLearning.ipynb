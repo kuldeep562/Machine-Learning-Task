{
 "cells": [
  {
   "cell_type": "markdown",
   "id": "eebc439e-dc04-4805-becf-11681c87f569",
   "metadata": {},
   "source": [
    "# Q-20 WAP to implement image classification using SVM, KNN, Logistic."
   ]
  },
  {
   "cell_type": "code",
   "execution_count": 1,
   "id": "ebd5b585",
   "metadata": {},
   "outputs": [],
   "source": [
    "import os as os\n",
    "import numpy as np\n",
    "import pandas as pd\n",
    "from skimage.transform import resize\n",
    "from skimage.io import imread\n",
    "import matplotlib.pyplot as plt\n",
    "from sklearn.metrics import accuracy_score,classification_report"
   ]
  },
  {
   "cell_type": "code",
   "execution_count": 2,
   "id": "2ee32207",
   "metadata": {},
   "outputs": [
    {
     "name": "stdout",
     "output_type": "stream",
     "text": [
      "loading categories:cats\n"
     ]
    },
    {
     "ename": "FileNotFoundError",
     "evalue": "[WinError 3] The system cannot find the path specified: 'C:\\\\Users\\\\rcc\\\\Desktop\\\\data\\\\training_set\\\\cats'",
     "output_type": "error",
     "traceback": [
      "\u001b[1;31m---------------------------------------------------------------------------\u001b[0m",
      "\u001b[1;31mFileNotFoundError\u001b[0m                         Traceback (most recent call last)",
      "Cell \u001b[1;32mIn[2], line 8\u001b[0m\n\u001b[0;32m      6\u001b[0m \u001b[38;5;28mprint\u001b[39m(\u001b[38;5;124mf\u001b[39m\u001b[38;5;124m'\u001b[39m\u001b[38;5;124mloading categories:\u001b[39m\u001b[38;5;132;01m{\u001b[39;00mi\u001b[38;5;132;01m}\u001b[39;00m\u001b[38;5;124m'\u001b[39m )\n\u001b[0;32m      7\u001b[0m path\u001b[38;5;241m=\u001b[39mos\u001b[38;5;241m.\u001b[39mpath\u001b[38;5;241m.\u001b[39mjoin(datadir,i)\n\u001b[1;32m----> 8\u001b[0m \u001b[38;5;28;01mfor\u001b[39;00m img \u001b[38;5;129;01min\u001b[39;00m os\u001b[38;5;241m.\u001b[39mlistdir(path):\n\u001b[0;32m      9\u001b[0m     img_arra\u001b[38;5;241m=\u001b[39mimread(os\u001b[38;5;241m.\u001b[39mpath\u001b[38;5;241m.\u001b[39mjoin(path,img))\n\u001b[0;32m     10\u001b[0m     img_res\u001b[38;5;241m=\u001b[39mresize(img_arra,(\u001b[38;5;241m150\u001b[39m,\u001b[38;5;241m150\u001b[39m,\u001b[38;5;241m3\u001b[39m))\n",
      "\u001b[1;31mFileNotFoundError\u001b[0m: [WinError 3] The system cannot find the path specified: 'C:\\\\Users\\\\rcc\\\\Desktop\\\\data\\\\training_set\\\\cats'"
     ]
    }
   ],
   "source": [
    "categories=['cats','dogs']\n",
    "flat_data_arr=[]\n",
    "target_arr=[]\n",
    "datadir=r'C:\\Users\\rcc\\Desktop\\data\\training_set'\n",
    "for i in categories:\n",
    "    print(f'loading categories:{i}' )\n",
    "    path=os.path.join(datadir,i)\n",
    "    for img in os.listdir(path):\n",
    "        img_arra=imread(os.path.join(path,img))\n",
    "        img_res=resize(img_arra,(150,150,3))\n",
    "        flat_data_arr.append(img_res.flatten())\n",
    "        target_arr.append(categories.index(i))\n",
    "    print(f'loaded categories:{i} succesfully' )\n",
    "flat_data=np.array(flat_data_arr)\n",
    "target=np.array(target_arr)"
   ]
  },
  {
   "cell_type": "code",
   "execution_count": null,
   "id": "f9cc8f75",
   "metadata": {},
   "outputs": [],
   "source": [
    "df=pd.DataFrame(flat_data)\n",
    "df[\"Target\"]=target\n",
    "df.shape"
   ]
  },
  {
   "cell_type": "code",
   "execution_count": null,
   "id": "3d4432a3",
   "metadata": {},
   "outputs": [],
   "source": [
    "x=df.iloc[0::32,:-1]\n",
    "y=df.iloc[0::32,-1]"
   ]
  },
  {
   "cell_type": "code",
   "execution_count": null,
   "id": "062ead06",
   "metadata": {},
   "outputs": [],
   "source": [
    "from sklearn.svm import SVC\n",
    "from sklearn.model_selection import GridSearchCV,train_test_split"
   ]
  },
  {
   "cell_type": "code",
   "execution_count": null,
   "id": "8300b2f4",
   "metadata": {},
   "outputs": [],
   "source": [
    "xtrain,xtest,ytrain,ytest=train_test_split(x,y,test_size=0.3,random_state=42)"
   ]
  },
  {
   "cell_type": "code",
   "execution_count": null,
   "id": "5d4ad70b",
   "metadata": {},
   "outputs": [],
   "source": [
    "dx = SVC()\n",
    "params = {'kernel': ['linear', 'poly', 'rbf', 'sigmoid'], 'C': [1, 0.1, 0.001], 'gamma': ['auto', 'scale']}\n",
    "GSCV = GridSearchCV(dx, params, cv=2)\n",
    "GSCV.fit(xtrain, ytrain)\n",
    "GSCV.best_params_\n"
   ]
  },
  {
   "cell_type": "code",
   "execution_count": null,
   "id": "b6689c7a",
   "metadata": {},
   "outputs": [],
   "source": [
    "accuracy_score(GSCV.predict(xtest),ytest)"
   ]
  },
  {
   "cell_type": "code",
   "execution_count": null,
   "id": "acc1a70d",
   "metadata": {},
   "outputs": [],
   "source": [
    "dx = SVC(kernel='poly',C=10,gamma='scale')\n",
    "dx.fit(xtrain,ytrain)\n",
    "accuracy_score(dx.predict(xtest),ytest)"
   ]
  },
  {
   "cell_type": "code",
   "execution_count": null,
   "id": "d95e8b46",
   "metadata": {},
   "outputs": [],
   "source": [
    "from sklearn.neighbors import KNeighborsClassifier"
   ]
  },
  {
   "cell_type": "code",
   "execution_count": null,
   "id": "6ff33da3",
   "metadata": {},
   "outputs": [],
   "source": [
    "asd=KNeighborsClassifier(n_neighbors=5)\n",
    "asd.fit(xtrain,ytrain)"
   ]
  },
  {
   "cell_type": "code",
   "execution_count": null,
   "id": "c05d4fa5",
   "metadata": {},
   "outputs": [],
   "source": [
    "from sklearn.tree import DecisionTreeClassifier"
   ]
  },
  {
   "cell_type": "code",
   "execution_count": null,
   "id": "76fbb98f",
   "metadata": {},
   "outputs": [],
   "source": [
    "tan=DecisionTreeClassifier()\n",
    "tan.fit(xtrain,ytrain)\n",
    "accuracy_score(tan.predict(xtest),ytest)"
   ]
  }
 ],
 "metadata": {
  "kernelspec": {
   "display_name": "Python 3 (ipykernel)",
   "language": "python",
   "name": "python3"
  },
  "language_info": {
   "codemirror_mode": {
    "name": "ipython",
    "version": 3
   },
   "file_extension": ".py",
   "mimetype": "text/x-python",
   "name": "python",
   "nbconvert_exporter": "python",
   "pygments_lexer": "ipython3",
   "version": "3.11.4"
  }
 },
 "nbformat": 4,
 "nbformat_minor": 5
}
