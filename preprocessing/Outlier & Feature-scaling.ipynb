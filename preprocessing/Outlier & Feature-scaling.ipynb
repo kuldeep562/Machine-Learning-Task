{
 "cells": [
  {
   "cell_type": "code",
   "execution_count": 1,
   "id": "17e4ee15-a0fa-4271-80d6-6b23b453f378",
   "metadata": {},
   "outputs": [],
   "source": [
    "import numpy as np\n",
    "import pandas as pd\n",
    "import matplotlib.pyplot as plt\n",
    "import seaborn as sns\n",
    "from sklearn import datasets"
   ]
  },
  {
   "cell_type": "code",
   "execution_count": 2,
   "id": "f0cebab2-095d-480c-82a2-2f326c64def0",
   "metadata": {},
   "outputs": [],
   "source": [
    "df=datasets.load_diabetes(scaled=False)\n",
    "x=df.data\n",
    "y=df.target"
   ]
  },
  {
   "cell_type": "code",
   "execution_count": 3,
   "id": "4cc18f29-5b1a-401b-9af2-d8e56320f9b5",
   "metadata": {},
   "outputs": [
    {
     "data": {
      "text/html": [
       "<div>\n",
       "<style scoped>\n",
       "    .dataframe tbody tr th:only-of-type {\n",
       "        vertical-align: middle;\n",
       "    }\n",
       "\n",
       "    .dataframe tbody tr th {\n",
       "        vertical-align: top;\n",
       "    }\n",
       "\n",
       "    .dataframe thead th {\n",
       "        text-align: right;\n",
       "    }\n",
       "</style>\n",
       "<table border=\"1\" class=\"dataframe\">\n",
       "  <thead>\n",
       "    <tr style=\"text-align: right;\">\n",
       "      <th></th>\n",
       "      <th>age</th>\n",
       "      <th>sex</th>\n",
       "      <th>bmi</th>\n",
       "      <th>bp</th>\n",
       "      <th>s1</th>\n",
       "      <th>s2</th>\n",
       "      <th>s3</th>\n",
       "      <th>s4</th>\n",
       "      <th>s5</th>\n",
       "      <th>s6</th>\n",
       "    </tr>\n",
       "  </thead>\n",
       "  <tbody>\n",
       "    <tr>\n",
       "      <th>0</th>\n",
       "      <td>59.0</td>\n",
       "      <td>2.0</td>\n",
       "      <td>32.1</td>\n",
       "      <td>101.00</td>\n",
       "      <td>157.0</td>\n",
       "      <td>93.2</td>\n",
       "      <td>38.0</td>\n",
       "      <td>4.00</td>\n",
       "      <td>4.8598</td>\n",
       "      <td>87.0</td>\n",
       "    </tr>\n",
       "    <tr>\n",
       "      <th>1</th>\n",
       "      <td>48.0</td>\n",
       "      <td>1.0</td>\n",
       "      <td>21.6</td>\n",
       "      <td>87.00</td>\n",
       "      <td>183.0</td>\n",
       "      <td>103.2</td>\n",
       "      <td>70.0</td>\n",
       "      <td>3.00</td>\n",
       "      <td>3.8918</td>\n",
       "      <td>69.0</td>\n",
       "    </tr>\n",
       "    <tr>\n",
       "      <th>2</th>\n",
       "      <td>72.0</td>\n",
       "      <td>2.0</td>\n",
       "      <td>30.5</td>\n",
       "      <td>93.00</td>\n",
       "      <td>156.0</td>\n",
       "      <td>93.6</td>\n",
       "      <td>41.0</td>\n",
       "      <td>4.00</td>\n",
       "      <td>4.6728</td>\n",
       "      <td>85.0</td>\n",
       "    </tr>\n",
       "    <tr>\n",
       "      <th>3</th>\n",
       "      <td>24.0</td>\n",
       "      <td>1.0</td>\n",
       "      <td>25.3</td>\n",
       "      <td>84.00</td>\n",
       "      <td>198.0</td>\n",
       "      <td>131.4</td>\n",
       "      <td>40.0</td>\n",
       "      <td>5.00</td>\n",
       "      <td>4.8903</td>\n",
       "      <td>89.0</td>\n",
       "    </tr>\n",
       "    <tr>\n",
       "      <th>4</th>\n",
       "      <td>50.0</td>\n",
       "      <td>1.0</td>\n",
       "      <td>23.0</td>\n",
       "      <td>101.00</td>\n",
       "      <td>192.0</td>\n",
       "      <td>125.4</td>\n",
       "      <td>52.0</td>\n",
       "      <td>4.00</td>\n",
       "      <td>4.2905</td>\n",
       "      <td>80.0</td>\n",
       "    </tr>\n",
       "    <tr>\n",
       "      <th>...</th>\n",
       "      <td>...</td>\n",
       "      <td>...</td>\n",
       "      <td>...</td>\n",
       "      <td>...</td>\n",
       "      <td>...</td>\n",
       "      <td>...</td>\n",
       "      <td>...</td>\n",
       "      <td>...</td>\n",
       "      <td>...</td>\n",
       "      <td>...</td>\n",
       "    </tr>\n",
       "    <tr>\n",
       "      <th>437</th>\n",
       "      <td>60.0</td>\n",
       "      <td>2.0</td>\n",
       "      <td>28.2</td>\n",
       "      <td>112.00</td>\n",
       "      <td>185.0</td>\n",
       "      <td>113.8</td>\n",
       "      <td>42.0</td>\n",
       "      <td>4.00</td>\n",
       "      <td>4.9836</td>\n",
       "      <td>93.0</td>\n",
       "    </tr>\n",
       "    <tr>\n",
       "      <th>438</th>\n",
       "      <td>47.0</td>\n",
       "      <td>2.0</td>\n",
       "      <td>24.9</td>\n",
       "      <td>75.00</td>\n",
       "      <td>225.0</td>\n",
       "      <td>166.0</td>\n",
       "      <td>42.0</td>\n",
       "      <td>5.00</td>\n",
       "      <td>4.4427</td>\n",
       "      <td>102.0</td>\n",
       "    </tr>\n",
       "    <tr>\n",
       "      <th>439</th>\n",
       "      <td>60.0</td>\n",
       "      <td>2.0</td>\n",
       "      <td>24.9</td>\n",
       "      <td>99.67</td>\n",
       "      <td>162.0</td>\n",
       "      <td>106.6</td>\n",
       "      <td>43.0</td>\n",
       "      <td>3.77</td>\n",
       "      <td>4.1271</td>\n",
       "      <td>95.0</td>\n",
       "    </tr>\n",
       "    <tr>\n",
       "      <th>440</th>\n",
       "      <td>36.0</td>\n",
       "      <td>1.0</td>\n",
       "      <td>30.0</td>\n",
       "      <td>95.00</td>\n",
       "      <td>201.0</td>\n",
       "      <td>125.2</td>\n",
       "      <td>42.0</td>\n",
       "      <td>4.79</td>\n",
       "      <td>5.1299</td>\n",
       "      <td>85.0</td>\n",
       "    </tr>\n",
       "    <tr>\n",
       "      <th>441</th>\n",
       "      <td>36.0</td>\n",
       "      <td>1.0</td>\n",
       "      <td>19.6</td>\n",
       "      <td>71.00</td>\n",
       "      <td>250.0</td>\n",
       "      <td>133.2</td>\n",
       "      <td>97.0</td>\n",
       "      <td>3.00</td>\n",
       "      <td>4.5951</td>\n",
       "      <td>92.0</td>\n",
       "    </tr>\n",
       "  </tbody>\n",
       "</table>\n",
       "<p>442 rows × 10 columns</p>\n",
       "</div>"
      ],
      "text/plain": [
       "      age  sex   bmi      bp     s1     s2    s3    s4      s5     s6\n",
       "0    59.0  2.0  32.1  101.00  157.0   93.2  38.0  4.00  4.8598   87.0\n",
       "1    48.0  1.0  21.6   87.00  183.0  103.2  70.0  3.00  3.8918   69.0\n",
       "2    72.0  2.0  30.5   93.00  156.0   93.6  41.0  4.00  4.6728   85.0\n",
       "3    24.0  1.0  25.3   84.00  198.0  131.4  40.0  5.00  4.8903   89.0\n",
       "4    50.0  1.0  23.0  101.00  192.0  125.4  52.0  4.00  4.2905   80.0\n",
       "..    ...  ...   ...     ...    ...    ...   ...   ...     ...    ...\n",
       "437  60.0  2.0  28.2  112.00  185.0  113.8  42.0  4.00  4.9836   93.0\n",
       "438  47.0  2.0  24.9   75.00  225.0  166.0  42.0  5.00  4.4427  102.0\n",
       "439  60.0  2.0  24.9   99.67  162.0  106.6  43.0  3.77  4.1271   95.0\n",
       "440  36.0  1.0  30.0   95.00  201.0  125.2  42.0  4.79  5.1299   85.0\n",
       "441  36.0  1.0  19.6   71.00  250.0  133.2  97.0  3.00  4.5951   92.0\n",
       "\n",
       "[442 rows x 10 columns]"
      ]
     },
     "execution_count": 3,
     "metadata": {},
     "output_type": "execute_result"
    }
   ],
   "source": [
    "data=pd.DataFrame(x,columns=df.feature_names)\n",
    "data"
   ]
  },
  {
   "cell_type": "code",
   "execution_count": 4,
   "id": "8005274a-0362-47c0-8154-9729dfba4302",
   "metadata": {},
   "outputs": [
    {
     "name": "stdout",
     "output_type": "stream",
     "text": [
      "<class 'pandas.core.frame.DataFrame'>\n",
      "RangeIndex: 442 entries, 0 to 441\n",
      "Data columns (total 10 columns):\n",
      " #   Column  Non-Null Count  Dtype  \n",
      "---  ------  --------------  -----  \n",
      " 0   age     442 non-null    float64\n",
      " 1   sex     442 non-null    float64\n",
      " 2   bmi     442 non-null    float64\n",
      " 3   bp      442 non-null    float64\n",
      " 4   s1      442 non-null    float64\n",
      " 5   s2      442 non-null    float64\n",
      " 6   s3      442 non-null    float64\n",
      " 7   s4      442 non-null    float64\n",
      " 8   s5      442 non-null    float64\n",
      " 9   s6      442 non-null    float64\n",
      "dtypes: float64(10)\n",
      "memory usage: 34.7 KB\n"
     ]
    }
   ],
   "source": [
    "data.info()"
   ]
  },
  {
   "cell_type": "code",
   "execution_count": 5,
   "id": "75ef17f2-9b20-41e4-9dc5-22231f5d244a",
   "metadata": {},
   "outputs": [
    {
     "data": {
      "text/plain": [
       "age    0\n",
       "sex    0\n",
       "bmi    0\n",
       "bp     0\n",
       "s1     0\n",
       "s2     0\n",
       "s3     0\n",
       "s4     0\n",
       "s5     0\n",
       "s6     0\n",
       "dtype: int64"
      ]
     },
     "execution_count": 5,
     "metadata": {},
     "output_type": "execute_result"
    }
   ],
   "source": [
    "data.isnull().sum()"
   ]
  },
  {
   "cell_type": "code",
   "execution_count": 6,
   "id": "5abcbb05-8b9c-466b-b70b-d034d8f66300",
   "metadata": {},
   "outputs": [
    {
     "data": {
      "text/plain": [
       "0"
      ]
     },
     "execution_count": 6,
     "metadata": {},
     "output_type": "execute_result"
    }
   ],
   "source": [
    "data.duplicated().sum()"
   ]
  },
  {
   "cell_type": "code",
   "execution_count": 7,
   "id": "0c5986b8-19ea-4aa4-8ccd-fa8d783c24eb",
   "metadata": {},
   "outputs": [
    {
     "data": {
      "image/png": "[encoded data removed]",
      "text/plain": [
       "<Figure size 640x480 with 1 Axes>"
      ]
     },
     "metadata": {},
     "output_type": "display_data"
    }
   ],
   "source": [
    "sns.boxplot(data)\n",
    "plt.show()"
   ]
  },
  {
   "cell_type": "code",
   "execution_count": 23,
   "id": "4fbf19d9-3f23-43dd-9068-975942ac5d89",
   "metadata": {},
   "outputs": [],
   "source": [
    "threshold = 3\n",
    "data_replaced_outliers = data.copy()\n",
    "for i in range(data.shape[1]):\n",
    "    feature_data = data.iloc[:, i]\n",
    "    z_scores = (feature_data - np.mean(feature_data)) / np.std(feature_data)\n",
    "    feature_outliers = z_scores[np.abs(z_scores) > threshold].index.tolist()\n",
    "    mean_value = np.mean(feature_data)\n",
    "    data_replaced_outliers.iloc[feature_outliers, i] = mean_value\n",
    "# print(\"Data with outliers replaced:\\n\", data_replaced_outliers)"
   ]
  },
  {
   "cell_type": "code",
   "execution_count": 26,
   "id": "c31c1c9f-bed7-4ca7-ac56-c250f36082ae",
   "metadata": {},
   "outputs": [
    {
     "data": {
      "text/plain": [
       "10"
      ]
     },
     "execution_count": 26,
     "metadata": {},
     "output_type": "execute_result"
    }
   ],
   "source": [
    "data.shape[1]"
   ]
  },
  {
   "cell_type": "code",
   "execution_count": 9,
   "id": "b08f7399-a1ed-4478-ad96-0a423232792d",
   "metadata": {},
   "outputs": [
    {
     "data": {
      "image/png": "[encoded data removed]",
      "text/plain": [
       "<Figure size 640x480 with 1 Axes>"
      ]
     },
     "metadata": {},
     "output_type": "display_data"
    }
   ],
   "source": [
    "sns.boxplot(data_replaced_outliers)\n",
    "plt.show()"
   ]
  },
  {
   "cell_type": "code",
   "execution_count": 21,
   "id": "454593bd-d55d-4cf8-a0d1-1c70617c068e",
   "metadata": {},
   "outputs": [],
   "source": [
    "threshold = 3\n",
    "all_outliers = set()\n",
    "for i in range(data.shape[1]):\n",
    "    feature_data = data.iloc[:, i]\n",
    "    z_scores = (feature_data - np.mean(feature_data)) / np.std(feature_data)\n",
    "    feature_outliers = z_scores[np.abs(z_scores) > threshold].index.tolist()\n",
    "    all_outliers.update(feature_outliers)\n",
    "all_outliers = list(all_outliers)\n",
    "data_dropped_outliers = data.drop(all_outliers, axis=0)\n",
    "# print(\"Data with outliers removed:\\n\", data_dropped_outliers)"
   ]
  },
  {
   "cell_type": "code",
   "execution_count": 11,
   "id": "90793eba-067e-4700-8a14-33790c0f520b",
   "metadata": {},
   "outputs": [
    {
     "data": {
      "text/plain": [
       "<Axes: >"
      ]
     },
     "execution_count": 11,
     "metadata": {},
     "output_type": "execute_result"
    },
    {
     "data": {
      "image/png": "[encoded data removed]",
      "text/plain": [
       "<Figure size 640x480 with 1 Axes>"
      ]
     },
     "metadata": {},
     "output_type": "display_data"
    }
   ],
   "source": [
    "sns.boxplot(data_dropped_outliers)"
   ]
  },
  {
   "cell_type": "code",
   "execution_count": 12,
   "id": "ad98a819-f49c-4ffa-8ca9-3635de8f7c93",
   "metadata": {},
   "outputs": [],
   "source": [
    "# data.clip(data.quantile(0.2),data.quantile(0.8),inplace=True,axis=1)"
   ]
  },
  {
   "cell_type": "code",
   "execution_count": 13,
   "id": "3f27ed79-8115-4302-824b-cec45ca6aed4",
   "metadata": {},
   "outputs": [
    {
     "data": {
      "image/png": "[encoded data removed]",
      "text/plain": [
       "<Figure size 640x480 with 1 Axes>"
      ]
     },
     "metadata": {},
     "output_type": "display_data"
    }
   ],
   "source": [
    "sns.boxplot(data)\n",
    "plt.show()"
   ]
  },
  {
   "cell_type": "code",
   "execution_count": 14,
   "id": "d22fa246-a3f4-4858-a9a2-193e327b449d",
   "metadata": {},
   "outputs": [
    {
     "data": {
      "text/plain": [
       "[256, 322, 260, 261, 230, 269, 367, 336, 216, 441, 58, 123]"
      ]
     },
     "execution_count": 14,
     "metadata": {},
     "output_type": "execute_result"
    }
   ],
   "source": [
    "all_outliers"
   ]
  },
  {
   "cell_type": "code",
   "execution_count": 15,
   "id": "f9a43045-378a-4741-92a5-653f9ce7cfd2",
   "metadata": {},
   "outputs": [
    {
     "data": {
      "text/html": [
       "<div>\n",
       "<style scoped>\n",
       "    .dataframe tbody tr th:only-of-type {\n",
       "        vertical-align: middle;\n",
       "    }\n",
       "\n",
       "    .dataframe tbody tr th {\n",
       "        vertical-align: top;\n",
       "    }\n",
       "\n",
       "    .dataframe thead th {\n",
       "        text-align: right;\n",
       "    }\n",
       "</style>\n",
       "<table border=\"1\" class=\"dataframe\">\n",
       "  <thead>\n",
       "    <tr style=\"text-align: right;\">\n",
       "      <th></th>\n",
       "      <th>age</th>\n",
       "      <th>sex</th>\n",
       "      <th>bmi</th>\n",
       "      <th>bp</th>\n",
       "      <th>s1</th>\n",
       "      <th>s2</th>\n",
       "      <th>s3</th>\n",
       "      <th>s4</th>\n",
       "      <th>s5</th>\n",
       "      <th>s6</th>\n",
       "    </tr>\n",
       "  </thead>\n",
       "  <tbody>\n",
       "    <tr>\n",
       "      <th>256</th>\n",
       "      <td>35.0</td>\n",
       "      <td>1.0</td>\n",
       "      <td>41.3</td>\n",
       "      <td>81.0</td>\n",
       "      <td>168.0</td>\n",
       "      <td>102.8</td>\n",
       "      <td>37.0</td>\n",
       "      <td>5.0</td>\n",
       "      <td>4.9488</td>\n",
       "      <td>94.0</td>\n",
       "    </tr>\n",
       "  </tbody>\n",
       "</table>\n",
       "</div>"
      ],
      "text/plain": [
       "      age  sex   bmi    bp     s1     s2    s3   s4      s5    s6\n",
       "256  35.0  1.0  41.3  81.0  168.0  102.8  37.0  5.0  4.9488  94.0"
      ]
     },
     "execution_count": 15,
     "metadata": {},
     "output_type": "execute_result"
    }
   ],
   "source": [
    "data[256:257]"
   ]
  },
  {
   "cell_type": "code",
   "execution_count": 16,
   "id": "712db5c6-eeb5-46af-acb2-7f0c570ebe26",
   "metadata": {},
   "outputs": [
    {
     "data": {
      "text/html": [
       "<div>\n",
       "<style scoped>\n",
       "    .dataframe tbody tr th:only-of-type {\n",
       "        vertical-align: middle;\n",
       "    }\n",
       "\n",
       "    .dataframe tbody tr th {\n",
       "        vertical-align: top;\n",
       "    }\n",
       "\n",
       "    .dataframe thead th {\n",
       "        text-align: right;\n",
       "    }\n",
       "</style>\n",
       "<table border=\"1\" class=\"dataframe\">\n",
       "  <thead>\n",
       "    <tr style=\"text-align: right;\">\n",
       "      <th></th>\n",
       "      <th>age</th>\n",
       "      <th>sex</th>\n",
       "      <th>bmi</th>\n",
       "      <th>bp</th>\n",
       "      <th>s1</th>\n",
       "      <th>s2</th>\n",
       "      <th>s3</th>\n",
       "      <th>s4</th>\n",
       "      <th>s5</th>\n",
       "      <th>s6</th>\n",
       "    </tr>\n",
       "  </thead>\n",
       "  <tbody>\n",
       "    <tr>\n",
       "      <th>256</th>\n",
       "      <td>35.0</td>\n",
       "      <td>1.0</td>\n",
       "      <td>26.375792</td>\n",
       "      <td>81.0</td>\n",
       "      <td>168.0</td>\n",
       "      <td>102.8</td>\n",
       "      <td>37.0</td>\n",
       "      <td>5.0</td>\n",
       "      <td>4.9488</td>\n",
       "      <td>94.0</td>\n",
       "    </tr>\n",
       "  </tbody>\n",
       "</table>\n",
       "</div>"
      ],
      "text/plain": [
       "      age  sex        bmi    bp     s1     s2    s3   s4      s5    s6\n",
       "256  35.0  1.0  26.375792  81.0  168.0  102.8  37.0  5.0  4.9488  94.0"
      ]
     },
     "execution_count": 16,
     "metadata": {},
     "output_type": "execute_result"
    }
   ],
   "source": [
    "data_replaced_outliers[256:257]"
   ]
  },
  {
   "cell_type": "code",
   "execution_count": 17,
   "id": "b68d9410-c4c1-49cf-978f-4fc901be8d34",
   "metadata": {},
   "outputs": [
    {
     "data": {
      "text/html": [
       "<div>\n",
       "<style scoped>\n",
       "    .dataframe tbody tr th:only-of-type {\n",
       "        vertical-align: middle;\n",
       "    }\n",
       "\n",
       "    .dataframe tbody tr th {\n",
       "        vertical-align: top;\n",
       "    }\n",
       "\n",
       "    .dataframe thead th {\n",
       "        text-align: right;\n",
       "    }\n",
       "</style>\n",
       "<table border=\"1\" class=\"dataframe\">\n",
       "  <thead>\n",
       "    <tr style=\"text-align: right;\">\n",
       "      <th></th>\n",
       "      <th>age</th>\n",
       "      <th>sex</th>\n",
       "      <th>bmi</th>\n",
       "      <th>bp</th>\n",
       "      <th>s1</th>\n",
       "      <th>s2</th>\n",
       "      <th>s3</th>\n",
       "      <th>s4</th>\n",
       "      <th>s5</th>\n",
       "      <th>s6</th>\n",
       "    </tr>\n",
       "  </thead>\n",
       "  <tbody>\n",
       "    <tr>\n",
       "      <th>count</th>\n",
       "      <td>442.000000</td>\n",
       "      <td>442.000000</td>\n",
       "      <td>442.000000</td>\n",
       "      <td>442.000000</td>\n",
       "      <td>442.000000</td>\n",
       "      <td>442.000000</td>\n",
       "      <td>442.000000</td>\n",
       "      <td>442.000000</td>\n",
       "      <td>442.000000</td>\n",
       "      <td>442.000000</td>\n",
       "    </tr>\n",
       "    <tr>\n",
       "      <th>mean</th>\n",
       "      <td>48.518100</td>\n",
       "      <td>1.468326</td>\n",
       "      <td>26.375792</td>\n",
       "      <td>94.647014</td>\n",
       "      <td>189.140271</td>\n",
       "      <td>115.439140</td>\n",
       "      <td>49.788462</td>\n",
       "      <td>4.070249</td>\n",
       "      <td>4.641411</td>\n",
       "      <td>91.260181</td>\n",
       "    </tr>\n",
       "    <tr>\n",
       "      <th>std</th>\n",
       "      <td>13.109028</td>\n",
       "      <td>0.499561</td>\n",
       "      <td>4.418122</td>\n",
       "      <td>13.831283</td>\n",
       "      <td>34.608052</td>\n",
       "      <td>30.413081</td>\n",
       "      <td>12.934202</td>\n",
       "      <td>1.290450</td>\n",
       "      <td>0.522391</td>\n",
       "      <td>11.496335</td>\n",
       "    </tr>\n",
       "    <tr>\n",
       "      <th>min</th>\n",
       "      <td>19.000000</td>\n",
       "      <td>1.000000</td>\n",
       "      <td>18.000000</td>\n",
       "      <td>62.000000</td>\n",
       "      <td>97.000000</td>\n",
       "      <td>41.600000</td>\n",
       "      <td>22.000000</td>\n",
       "      <td>2.000000</td>\n",
       "      <td>3.258100</td>\n",
       "      <td>58.000000</td>\n",
       "    </tr>\n",
       "    <tr>\n",
       "      <th>25%</th>\n",
       "      <td>38.250000</td>\n",
       "      <td>1.000000</td>\n",
       "      <td>23.200000</td>\n",
       "      <td>84.000000</td>\n",
       "      <td>164.250000</td>\n",
       "      <td>96.050000</td>\n",
       "      <td>40.250000</td>\n",
       "      <td>3.000000</td>\n",
       "      <td>4.276700</td>\n",
       "      <td>83.250000</td>\n",
       "    </tr>\n",
       "    <tr>\n",
       "      <th>50%</th>\n",
       "      <td>50.000000</td>\n",
       "      <td>1.000000</td>\n",
       "      <td>25.700000</td>\n",
       "      <td>93.000000</td>\n",
       "      <td>186.000000</td>\n",
       "      <td>113.000000</td>\n",
       "      <td>48.000000</td>\n",
       "      <td>4.000000</td>\n",
       "      <td>4.620050</td>\n",
       "      <td>91.000000</td>\n",
       "    </tr>\n",
       "    <tr>\n",
       "      <th>75%</th>\n",
       "      <td>59.000000</td>\n",
       "      <td>2.000000</td>\n",
       "      <td>29.275000</td>\n",
       "      <td>105.000000</td>\n",
       "      <td>209.750000</td>\n",
       "      <td>134.500000</td>\n",
       "      <td>57.750000</td>\n",
       "      <td>5.000000</td>\n",
       "      <td>4.997200</td>\n",
       "      <td>98.000000</td>\n",
       "    </tr>\n",
       "    <tr>\n",
       "      <th>max</th>\n",
       "      <td>79.000000</td>\n",
       "      <td>2.000000</td>\n",
       "      <td>42.200000</td>\n",
       "      <td>133.000000</td>\n",
       "      <td>301.000000</td>\n",
       "      <td>242.400000</td>\n",
       "      <td>99.000000</td>\n",
       "      <td>9.090000</td>\n",
       "      <td>6.107000</td>\n",
       "      <td>124.000000</td>\n",
       "    </tr>\n",
       "  </tbody>\n",
       "</table>\n",
       "</div>"
      ],
      "text/plain": [
       "              age         sex         bmi          bp          s1          s2  \\\n",
       "count  442.000000  442.000000  442.000000  442.000000  442.000000  442.000000   \n",
       "mean    48.518100    1.468326   26.375792   94.647014  189.140271  115.439140   \n",
       "std     13.109028    0.499561    4.418122   13.831283   34.608052   30.413081   \n",
       "min     19.000000    1.000000   18.000000   62.000000   97.000000   41.600000   \n",
       "25%     38.250000    1.000000   23.200000   84.000000  164.250000   96.050000   \n",
       "50%     50.000000    1.000000   25.700000   93.000000  186.000000  113.000000   \n",
       "75%     59.000000    2.000000   29.275000  105.000000  209.750000  134.500000   \n",
       "max     79.000000    2.000000   42.200000  133.000000  301.000000  242.400000   \n",
       "\n",
       "               s3          s4          s5          s6  \n",
       "count  442.000000  442.000000  442.000000  442.000000  \n",
       "mean    49.788462    4.070249    4.641411   91.260181  \n",
       "std     12.934202    1.290450    0.522391   11.496335  \n",
       "min     22.000000    2.000000    3.258100   58.000000  \n",
       "25%     40.250000    3.000000    4.276700   83.250000  \n",
       "50%     48.000000    4.000000    4.620050   91.000000  \n",
       "75%     57.750000    5.000000    4.997200   98.000000  \n",
       "max     99.000000    9.090000    6.107000  124.000000  "
      ]
     },
     "execution_count": 17,
     "metadata": {},
     "output_type": "execute_result"
    }
   ],
   "source": [
    "data.describe()"
   ]
  },
  {
   "cell_type": "code",
   "execution_count": 29,
   "id": "990461ff-f97d-498e-84a4-15cc0a383d13",
   "metadata": {},
   "outputs": [],
   "source": [
    "data_rep_outliers = data.copy()\n",
    "for i in range(data.shape[1]):\n",
    "    feature_data = data.iloc[:, i]\n",
    "    low = np.percentile(feature_data, 10)\n",
    "    upp = np.percentile(feature_data, 90)\n",
    "    data_rep_outliers.iloc[feature_data.index[feature_data < low], i] = low\n",
    "    data_rep_outliers.iloc[feature_data.index[feature_data > upp], i] = upp\n",
    "# print(\"Data with outliers replaced:\\n\", data_replaced_outliers)"
   ]
  },
  {
   "cell_type": "code",
   "execution_count": 30,
   "id": "af679f3b-451f-4f25-92ae-2054cf2425f3",
   "metadata": {},
   "outputs": [
    {
     "data": {
      "text/plain": [
       "<Axes: >"
      ]
     },
     "execution_count": 30,
     "metadata": {},
     "output_type": "execute_result"
    },
    {
     "data": {
      "image/png": "[encoded data removed]",
      "text/plain": [
       "<Figure size 640x480 with 1 Axes>"
      ]
     },
     "metadata": {},
     "output_type": "display_data"
    }
   ],
   "source": [
    "sns.boxplot(data_rep_outliers)"
   ]
  },
  {
   "cell_type": "code",
   "execution_count": 52,
   "id": "96812498-7ab5-4096-87a8-36d36ccfc890",
   "metadata": {},
   "outputs": [],
   "source": [
    "data_rep_outliers = data.copy()\n",
    "for i in range(data.shape[1]):\n",
    "    feature_data = data.iloc[:, i]\n",
    "    q1  = np.percentile(feature_data, 25)\n",
    "    q3  = np.percentile(feature_data, 75)\n",
    "    iqr = (q3-q1)\n",
    "    low = q1-(1.5*iqr)\n",
    "    upp = q1-(1.5*iqr)\n",
    "    data_rep_outliers.iloc[feature_data.index[feature_data < low], i] = low\n",
    "    data_rep_outliers.iloc[feature_data.index[feature_data > upp], i] = upp\n",
    "# print(\"Data with outliers replaced:\\n\", data_replaced_outliers)"
   ]
  },
  {
   "cell_type": "code",
   "execution_count": 51,
   "id": "5211b097-1e3f-4de2-be16-2249601c6d26",
   "metadata": {},
   "outputs": [
    {
     "data": {
      "text/html": [
       "<div>\n",
       "<style scoped>\n",
       "    .dataframe tbody tr th:only-of-type {\n",
       "        vertical-align: middle;\n",
       "    }\n",
       "\n",
       "    .dataframe tbody tr th {\n",
       "        vertical-align: top;\n",
       "    }\n",
       "\n",
       "    .dataframe thead th {\n",
       "        text-align: right;\n",
       "    }\n",
       "</style>\n",
       "<table border=\"1\" class=\"dataframe\">\n",
       "  <thead>\n",
       "    <tr style=\"text-align: right;\">\n",
       "      <th></th>\n",
       "      <th>age</th>\n",
       "      <th>sex</th>\n",
       "      <th>bmi</th>\n",
       "      <th>bp</th>\n",
       "      <th>s1</th>\n",
       "      <th>s2</th>\n",
       "      <th>s3</th>\n",
       "      <th>s4</th>\n",
       "      <th>s5</th>\n",
       "      <th>s6</th>\n",
       "    </tr>\n",
       "  </thead>\n",
       "  <tbody>\n",
       "    <tr>\n",
       "      <th>0</th>\n",
       "      <td>0.433735</td>\n",
       "      <td>1.0</td>\n",
       "      <td>1.053498</td>\n",
       "      <td>0.380952</td>\n",
       "      <td>-0.637363</td>\n",
       "      <td>-0.514954</td>\n",
       "      <td>-0.571429</td>\n",
       "      <td>0.000</td>\n",
       "      <td>0.332755</td>\n",
       "      <td>-0.271186</td>\n",
       "    </tr>\n",
       "    <tr>\n",
       "      <th>1</th>\n",
       "      <td>-0.096386</td>\n",
       "      <td>0.0</td>\n",
       "      <td>-0.674897</td>\n",
       "      <td>-0.285714</td>\n",
       "      <td>-0.065934</td>\n",
       "      <td>-0.254876</td>\n",
       "      <td>1.257143</td>\n",
       "      <td>-0.500</td>\n",
       "      <td>-1.010756</td>\n",
       "      <td>-1.491525</td>\n",
       "    </tr>\n",
       "    <tr>\n",
       "      <th>2</th>\n",
       "      <td>1.060241</td>\n",
       "      <td>1.0</td>\n",
       "      <td>0.790123</td>\n",
       "      <td>0.000000</td>\n",
       "      <td>-0.659341</td>\n",
       "      <td>-0.504551</td>\n",
       "      <td>-0.400000</td>\n",
       "      <td>0.000</td>\n",
       "      <td>0.073213</td>\n",
       "      <td>-0.406780</td>\n",
       "    </tr>\n",
       "    <tr>\n",
       "      <th>3</th>\n",
       "      <td>-1.253012</td>\n",
       "      <td>0.0</td>\n",
       "      <td>-0.065844</td>\n",
       "      <td>-0.428571</td>\n",
       "      <td>0.263736</td>\n",
       "      <td>0.478544</td>\n",
       "      <td>-0.457143</td>\n",
       "      <td>0.500</td>\n",
       "      <td>0.375087</td>\n",
       "      <td>-0.135593</td>\n",
       "    </tr>\n",
       "    <tr>\n",
       "      <th>4</th>\n",
       "      <td>0.000000</td>\n",
       "      <td>0.0</td>\n",
       "      <td>-0.444444</td>\n",
       "      <td>0.380952</td>\n",
       "      <td>0.131868</td>\n",
       "      <td>0.322497</td>\n",
       "      <td>0.228571</td>\n",
       "      <td>0.000</td>\n",
       "      <td>-0.457391</td>\n",
       "      <td>-0.745763</td>\n",
       "    </tr>\n",
       "    <tr>\n",
       "      <th>...</th>\n",
       "      <td>...</td>\n",
       "      <td>...</td>\n",
       "      <td>...</td>\n",
       "      <td>...</td>\n",
       "      <td>...</td>\n",
       "      <td>...</td>\n",
       "      <td>...</td>\n",
       "      <td>...</td>\n",
       "      <td>...</td>\n",
       "      <td>...</td>\n",
       "    </tr>\n",
       "    <tr>\n",
       "      <th>437</th>\n",
       "      <td>0.481928</td>\n",
       "      <td>1.0</td>\n",
       "      <td>0.411523</td>\n",
       "      <td>0.904762</td>\n",
       "      <td>-0.021978</td>\n",
       "      <td>0.020806</td>\n",
       "      <td>-0.342857</td>\n",
       "      <td>0.000</td>\n",
       "      <td>0.504580</td>\n",
       "      <td>0.135593</td>\n",
       "    </tr>\n",
       "    <tr>\n",
       "      <th>438</th>\n",
       "      <td>-0.144578</td>\n",
       "      <td>1.0</td>\n",
       "      <td>-0.131687</td>\n",
       "      <td>-0.857143</td>\n",
       "      <td>0.857143</td>\n",
       "      <td>1.378414</td>\n",
       "      <td>-0.342857</td>\n",
       "      <td>0.500</td>\n",
       "      <td>-0.246149</td>\n",
       "      <td>0.745763</td>\n",
       "    </tr>\n",
       "    <tr>\n",
       "      <th>439</th>\n",
       "      <td>0.481928</td>\n",
       "      <td>1.0</td>\n",
       "      <td>-0.131687</td>\n",
       "      <td>0.317619</td>\n",
       "      <td>-0.527473</td>\n",
       "      <td>-0.166450</td>\n",
       "      <td>-0.285714</td>\n",
       "      <td>-0.115</td>\n",
       "      <td>-0.684178</td>\n",
       "      <td>0.271186</td>\n",
       "    </tr>\n",
       "    <tr>\n",
       "      <th>440</th>\n",
       "      <td>-0.674699</td>\n",
       "      <td>0.0</td>\n",
       "      <td>0.707819</td>\n",
       "      <td>0.095238</td>\n",
       "      <td>0.329670</td>\n",
       "      <td>0.317295</td>\n",
       "      <td>-0.342857</td>\n",
       "      <td>0.395</td>\n",
       "      <td>0.707634</td>\n",
       "      <td>-0.406780</td>\n",
       "    </tr>\n",
       "    <tr>\n",
       "      <th>441</th>\n",
       "      <td>-0.674699</td>\n",
       "      <td>0.0</td>\n",
       "      <td>-1.004115</td>\n",
       "      <td>-1.047619</td>\n",
       "      <td>1.406593</td>\n",
       "      <td>0.525358</td>\n",
       "      <td>2.800000</td>\n",
       "      <td>-0.500</td>\n",
       "      <td>-0.034629</td>\n",
       "      <td>0.067797</td>\n",
       "    </tr>\n",
       "  </tbody>\n",
       "</table>\n",
       "<p>442 rows × 10 columns</p>\n",
       "</div>"
      ],
      "text/plain": [
       "          age  sex       bmi        bp        s1        s2        s3     s4  \\\n",
       "0    0.433735  1.0  1.053498  0.380952 -0.637363 -0.514954 -0.571429  0.000   \n",
       "1   -0.096386  0.0 -0.674897 -0.285714 -0.065934 -0.254876  1.257143 -0.500   \n",
       "2    1.060241  1.0  0.790123  0.000000 -0.659341 -0.504551 -0.400000  0.000   \n",
       "3   -1.253012  0.0 -0.065844 -0.428571  0.263736  0.478544 -0.457143  0.500   \n",
       "4    0.000000  0.0 -0.444444  0.380952  0.131868  0.322497  0.228571  0.000   \n",
       "..        ...  ...       ...       ...       ...       ...       ...    ...   \n",
       "437  0.481928  1.0  0.411523  0.904762 -0.021978  0.020806 -0.342857  0.000   \n",
       "438 -0.144578  1.0 -0.131687 -0.857143  0.857143  1.378414 -0.342857  0.500   \n",
       "439  0.481928  1.0 -0.131687  0.317619 -0.527473 -0.166450 -0.285714 -0.115   \n",
       "440 -0.674699  0.0  0.707819  0.095238  0.329670  0.317295 -0.342857  0.395   \n",
       "441 -0.674699  0.0 -1.004115 -1.047619  1.406593  0.525358  2.800000 -0.500   \n",
       "\n",
       "           s5        s6  \n",
       "0    0.332755 -0.271186  \n",
       "1   -1.010756 -1.491525  \n",
       "2    0.073213 -0.406780  \n",
       "3    0.375087 -0.135593  \n",
       "4   -0.457391 -0.745763  \n",
       "..        ...       ...  \n",
       "437  0.504580  0.135593  \n",
       "438 -0.246149  0.745763  \n",
       "439 -0.684178  0.271186  \n",
       "440  0.707634 -0.406780  \n",
       "441 -0.034629  0.067797  \n",
       "\n",
       "[442 rows x 10 columns]"
      ]
     },
     "execution_count": 51,
     "metadata": {},
     "output_type": "execute_result"
    }
   ],
   "source": [
    "data1=data.copy()\n",
    "for i in range(data.shape[1]):\n",
    "    feature_data=data1.iloc[:,i]\n",
    "    q1  = np.percentile(feature_data, 25)\n",
    "    q3  = np.percentile(feature_data, 75)\n",
    "    iqr = (q3-q1)\n",
    "    data1.iloc[:,i]=(feature_data-np.median(feature_data))/iqr#np.std(feature_data)#(np.max(feature_data)-np.min(feature_data))\n",
    "data1    "
   ]
  }
 ],
 "metadata": {
  "kernelspec": {
   "display_name": "Python 3 (ipykernel)",
   "language": "python",
   "name": "python3"
  },
  "language_info": {
   "codemirror_mode": {
    "name": "ipython",
    "version": 3
   },
   "file_extension": ".py",
   "mimetype": "text/x-python",
   "name": "python",
   "nbconvert_exporter": "python",
   "pygments_lexer": "ipython3",
   "version": "3.11.5"
  }
 },
 "nbformat": 4,
 "nbformat_minor": 5
}
